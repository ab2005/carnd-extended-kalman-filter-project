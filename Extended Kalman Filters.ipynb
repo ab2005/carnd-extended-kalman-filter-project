{
 "cells": [
  {
   "cell_type": "markdown",
   "metadata": {},
   "source": [
    "# Self-Driving Car ND - Sensor Fusion - Extended Kalman Filters"
   ]
  },
  {
   "cell_type": "markdown",
   "metadata": {},
   "source": [
    "## 1 Introduction\n"
   ]
  },
  {
   "cell_type": "markdown",
   "metadata": {},
   "source": [
    "## 2 Lesson map"
   ]
  },
  {
   "cell_type": "markdown",
   "metadata": {},
   "source": [
    "## 3 Estimation Problem Refresh"
   ]
  },
  {
   "cell_type": "markdown",
   "metadata": {},
   "source": [
    "## 4 Measurement Update Quiz"
   ]
  },
  {
   "cell_type": "markdown",
   "metadata": {},
   "source": [
    "## 5 Kalman Filter Equations In C++"
   ]
  },
  {
   "cell_type": "markdown",
   "metadata": {},
   "source": [
    " 1. The state transition function is: \n",
    "    \\begin{align}\n",
    "    x′ = f(x) + ν = Fx + Bu + ν   (1)\n",
    "    \\end{align}      \n",
    " 2. The motion control, Bu, is zero in our case, so our state transition function is simplified to:\n",
    "    \\begin{align}\n",
    "    x′ =Fx+ν (2)\n",
    "    \\end{align}\n",
    " 3. The measurement function is where,\n",
    "    \\begin{align}\n",
    "    z = h(x′) + ω = Hx′ + ω (3)\n",
    "    \\end{align}\n",
    " 4. ν is the process noise. It is a Gaussian with zero mean and covariance matrix Q:\n",
    "    \\begin{align}\n",
    "    ν ∼ N(0,Q) (4)\n",
    "    \\end{align}\n",
    " 5. ω is the measurement noise. It is a Gaussian with zero mean and covariance matrix R: \n",
    "    \\begin{align}\n",
    "    ω∼N(0,R) (5)\n",
    "    \\end{align}\n",
    " 6 The state vector: Linear motion:\n",
    "p \n",
    "x = v (6)\n",
    "p′ =p + v∆t (7) \n",
    "v′ = v (8)\n",
    "1\n",
    "The state prediction function:\n",
    "The measurement function:\n",
    " p′   1 ∆t  p \n",
    "v′ = 0 1 v (9)\n",
    "    p′ \n",
    "z= 1 0 v′ (10)"
   ]
  },
  {
   "cell_type": "code",
   "execution_count": null,
   "metadata": {
    "collapsed": true
   },
   "outputs": [],
   "source": []
  },
  {
   "cell_type": "code",
   "execution_count": null,
   "metadata": {
    "collapsed": true
   },
   "outputs": [],
   "source": []
  }
 ],
 "metadata": {
  "kernelspec": {
   "display_name": "Python 3",
   "language": "python",
   "name": "python3"
  },
  "language_info": {
   "codemirror_mode": {
    "name": "ipython",
    "version": 3
   },
   "file_extension": ".py",
   "mimetype": "text/x-python",
   "name": "python",
   "nbconvert_exporter": "python",
   "pygments_lexer": "ipython3",
   "version": "3.5.2"
  },
  "widgets": {
   "state": {},
   "version": "1.1.2"
  }
 },
 "nbformat": 4,
 "nbformat_minor": 2
}
